{
  "nbformat": 4,
  "nbformat_minor": 0,
  "metadata": {
    "colab": {
      "name": "ch_03.ipynb",
      "provenance": [],
      "collapsed_sections": [],
      "authorship_tag": "ABX9TyMJMlh9WDD6AcZu/BTMhEWz",
      "include_colab_link": true
    },
    "kernelspec": {
      "name": "python3",
      "display_name": "Python 3"
    },
    "language_info": {
      "name": "python"
    }
  },
  "cells": [
    {
      "cell_type": "markdown",
      "metadata": {
        "id": "view-in-github",
        "colab_type": "text"
      },
      "source": [
        "<a href=\"https://colab.research.google.com/github/robruenes/killaudio/blob/main/ch_03/ch_03.ipynb\" target=\"_parent\"><img src=\"https://colab.research.google.com/assets/colab-badge.svg\" alt=\"Open In Colab\"/></a>"
      ]
    },
    {
      "cell_type": "markdown",
      "source": [
        "# Indexing Numpy Arrays in Python\n",
        "\n",
        "The audio files we'll be reading and writing are going to be represented as numpy arrays and not regular Python list objects, so we explicitly create numpy arrays in the examples below to show how indexing works.\n",
        "\n",
        "For more detail than included here, check out the \n",
        "[official numpy documentation](https://numpy.org/doc/stable/user/basics.indexing.html) for indexing."
      ],
      "metadata": {
        "id": "OKZR8DxRFTVU"
      }
    },
    {
      "cell_type": "code",
      "execution_count": 4,
      "metadata": {
        "colab": {
          "base_uri": "https://localhost:8080/"
        },
        "id": "PldI3hWZE7Ui",
        "outputId": "27a4e7c3-ce4f-49a4-da4c-2de8b9f2bfde"
      },
      "outputs": [
        {
          "output_type": "stream",
          "name": "stdout",
          "text": [
            "Requirement already satisfied: numpy in /usr/local/lib/python3.7/dist-packages (1.19.5)\n"
          ]
        }
      ],
      "source": [
        "# Install and import the numpy dependency.\n",
        "!pip install numpy\n",
        "import numpy as np\n"
      ]
    },
    {
      "cell_type": "markdown",
      "source": [
        "## One Dimensional Arrays"
      ],
      "metadata": {
        "id": "pc-UO185IR0t"
      }
    },
    {
      "cell_type": "code",
      "source": [
        "# Represent a vector as a one-dimensional numpy array from a Python list.\n",
        "v = np.array([20, 21, 22, 23, 24, 25])\n"
      ],
      "metadata": {
        "id": "acunGQErFSu7"
      },
      "execution_count": 5,
      "outputs": []
    },
    {
      "cell_type": "code",
      "source": [
        "v[0] # First element"
      ],
      "metadata": {
        "colab": {
          "base_uri": "https://localhost:8080/"
        },
        "id": "1xJSLG0AGidU",
        "outputId": "7ca368db-d57f-49ae-ca70-a55df028c48f"
      },
      "execution_count": 7,
      "outputs": [
        {
          "output_type": "execute_result",
          "data": {
            "text/plain": [
              "20"
            ]
          },
          "metadata": {},
          "execution_count": 7
        }
      ]
    },
    {
      "cell_type": "code",
      "source": [
        "v[-1] # Last element, equivalent to V(end) in Matlab."
      ],
      "metadata": {
        "colab": {
          "base_uri": "https://localhost:8080/"
        },
        "id": "ceDH7C6NGmcp",
        "outputId": "56fd6b49-5afd-4939-ab8a-6e63cf82e13f"
      },
      "execution_count": 8,
      "outputs": [
        {
          "output_type": "execute_result",
          "data": {
            "text/plain": [
              "25"
            ]
          },
          "metadata": {},
          "execution_count": 8
        }
      ]
    },
    {
      "cell_type": "code",
      "source": [
        "v[1] = 31 # Change the second element.\n",
        "v[1]"
      ],
      "metadata": {
        "colab": {
          "base_uri": "https://localhost:8080/"
        },
        "id": "BAgRPTQBGsoh",
        "outputId": "27842efe-dcf5-47da-f8c4-30952df9ff25"
      },
      "execution_count": 10,
      "outputs": [
        {
          "output_type": "execute_result",
          "data": {
            "text/plain": [
              "31"
            ]
          },
          "metadata": {},
          "execution_count": 10
        }
      ]
    },
    {
      "cell_type": "markdown",
      "source": [
        "## N-Dimensional Arrays"
      ],
      "metadata": {
        "id": "t1fv9qowIXxg"
      }
    },
    {
      "cell_type": "code",
      "source": [
        "# Represent a 3 x 2 matrix using a numpy array from Python lists.\n",
        "m = np.array([[11, 12], [13, 14], [15, 16]])\n",
        "\n",
        "m[0][-1] # Last element in the first row."
      ],
      "metadata": {
        "colab": {
          "base_uri": "https://localhost:8080/"
        },
        "id": "8bjSS6lQHAJ_",
        "outputId": "a91736b1-0717-48a3-d149-204e99d143aa"
      },
      "execution_count": 11,
      "outputs": [
        {
          "output_type": "execute_result",
          "data": {
            "text/plain": [
              "12"
            ]
          },
          "metadata": {},
          "execution_count": 11
        }
      ]
    },
    {
      "cell_type": "code",
      "source": [
        "m[-1][1] # Second element in the last row"
      ],
      "metadata": {
        "colab": {
          "base_uri": "https://localhost:8080/"
        },
        "id": "pT2ZR1EkH402",
        "outputId": "39eab891-4fcb-474f-9154-5e57c3b29822"
      },
      "execution_count": 12,
      "outputs": [
        {
          "output_type": "execute_result",
          "data": {
            "text/plain": [
              "16"
            ]
          },
          "metadata": {},
          "execution_count": 12
        }
      ]
    },
    {
      "cell_type": "code",
      "source": [
        "# Set the element in the last column of the last row to 100\n",
        "m[-1][-1] = 100 \n",
        "m[-1][-1]"
      ],
      "metadata": {
        "colab": {
          "base_uri": "https://localhost:8080/"
        },
        "id": "8t9-62Q_ICAk",
        "outputId": "f4b676c7-37b6-4815-8ad1-75cdceed07c1"
      },
      "execution_count": 13,
      "outputs": [
        {
          "output_type": "execute_result",
          "data": {
            "text/plain": [
              "100"
            ]
          },
          "metadata": {},
          "execution_count": 13
        }
      ]
    },
    {
      "cell_type": "code",
      "source": [
        "# N-dimensional indexing doesn't require use of brackets\n",
        "# for each dimension.\n",
        "m[-1, -1]"
      ],
      "metadata": {
        "colab": {
          "base_uri": "https://localhost:8080/"
        },
        "id": "LOEpDZkbJcaV",
        "outputId": "db75a1a5-7ad7-4d96-b375-05e5f1b2eec6"
      },
      "execution_count": 14,
      "outputs": [
        {
          "output_type": "execute_result",
          "data": {
            "text/plain": [
              "100"
            ]
          },
          "metadata": {},
          "execution_count": 14
        }
      ]
    },
    {
      "cell_type": "code",
      "source": [
        "# The entire matrix.\n",
        "m"
      ],
      "metadata": {
        "colab": {
          "base_uri": "https://localhost:8080/"
        },
        "id": "uCGEJqgQKFFI",
        "outputId": "4835827d-5a4d-43ae-fa1d-9e4a23f2d6dc"
      },
      "execution_count": 15,
      "outputs": [
        {
          "output_type": "execute_result",
          "data": {
            "text/plain": [
              "array([[ 11,  12],\n",
              "       [ 13,  14],\n",
              "       [ 15, 100]])"
            ]
          },
          "metadata": {},
          "execution_count": 15
        }
      ]
    },
    {
      "cell_type": "code",
      "source": [
        "# Another way of addressing the entire matrix.\n",
        "m[:]"
      ],
      "metadata": {
        "colab": {
          "base_uri": "https://localhost:8080/"
        },
        "id": "vcRz4hODKTOr",
        "outputId": "0ff21448-ee4c-4174-d879-54914ba58d77"
      },
      "execution_count": 16,
      "outputs": [
        {
          "output_type": "execute_result",
          "data": {
            "text/plain": [
              "array([[ 11,  12],\n",
              "       [ 13,  14],\n",
              "       [ 15, 100]])"
            ]
          },
          "metadata": {},
          "execution_count": 16
        }
      ]
    },
    {
      "cell_type": "code",
      "source": [
        "# Obtain the dimensions of the matrix\n",
        "# Note: you can also assign to this member variable\n",
        "# to change the shape.\n",
        "m.shape"
      ],
      "metadata": {
        "colab": {
          "base_uri": "https://localhost:8080/"
        },
        "id": "EzaeYYoxKeAI",
        "outputId": "acd2460f-e533-4e3f-fbf9-8c6fa29b216b"
      },
      "execution_count": 21,
      "outputs": [
        {
          "output_type": "execute_result",
          "data": {
            "text/plain": [
              "(3, 2)"
            ]
          },
          "metadata": {},
          "execution_count": 21
        }
      ]
    },
    {
      "cell_type": "markdown",
      "source": [
        "## Slicing\n",
        "\n",
        "*Note*: If you run into unexpected behavior down the road, check out the [numpy documentation](https://numpy.org/doc/stable/user/basics.indexing.html#slicing-and-striding) for some important info regarding views and copies of the underlying array."
      ],
      "metadata": {
        "id": "AIKdeXx2Lkst"
      }
    },
    {
      "cell_type": "code",
      "source": [
        "x = np.array([0, 1, 2, 3, 4, 5, 6, 7, 8, 9])\n",
        "x"
      ],
      "metadata": {
        "colab": {
          "base_uri": "https://localhost:8080/"
        },
        "id": "cEHJ8VWkL-Ej",
        "outputId": "562ad1d0-c725-4922-bfd1-5325ed99967d"
      },
      "execution_count": 25,
      "outputs": [
        {
          "output_type": "execute_result",
          "data": {
            "text/plain": [
              "array([0, 1, 2, 3, 4, 5, 6, 7, 8, 9])"
            ]
          },
          "metadata": {},
          "execution_count": 25
        }
      ]
    },
    {
      "cell_type": "code",
      "source": [
        "# Beginning from the second item (index 1),\n",
        "# and ending at the eighth item (index 7),\n",
        "# step across elements by increments of 2 \n",
        "# and return those elements.\n",
        "x[1:7:2] "
      ],
      "metadata": {
        "colab": {
          "base_uri": "https://localhost:8080/"
        },
        "id": "1QGCBtxfMAtO",
        "outputId": "f9cddaa9-365b-4544-c02a-9d2987fecb1f"
      },
      "execution_count": 28,
      "outputs": [
        {
          "output_type": "execute_result",
          "data": {
            "text/plain": [
              "array([1, 3, 5])"
            ]
          },
          "metadata": {},
          "execution_count": 28
        }
      ]
    },
    {
      "cell_type": "code",
      "source": [
        "# Equivalent expressions\n",
        "x[2:10]"
      ],
      "metadata": {
        "colab": {
          "base_uri": "https://localhost:8080/"
        },
        "id": "OsoZRfGxMzZi",
        "outputId": "d5204921-393e-4435-e684-3fcd11f5b5b2"
      },
      "execution_count": 30,
      "outputs": [
        {
          "output_type": "execute_result",
          "data": {
            "text/plain": [
              "array([2, 3, 4, 5, 6, 7, 8, 9])"
            ]
          },
          "metadata": {},
          "execution_count": 30
        }
      ]
    },
    {
      "cell_type": "code",
      "source": [
        "x[2:10:1]"
      ],
      "metadata": {
        "colab": {
          "base_uri": "https://localhost:8080/"
        },
        "id": "H2H0h-8XNH5_",
        "outputId": "aaa2c97e-6036-41df-9389-4a701461d9a2"
      },
      "execution_count": 31,
      "outputs": [
        {
          "output_type": "execute_result",
          "data": {
            "text/plain": [
              "array([2, 3, 4, 5, 6, 7, 8, 9])"
            ]
          },
          "metadata": {},
          "execution_count": 31
        }
      ]
    },
    {
      "cell_type": "code",
      "source": [
        "# Using negative indexing.\n",
        "x[-2:10]"
      ],
      "metadata": {
        "colab": {
          "base_uri": "https://localhost:8080/"
        },
        "id": "xGKTl-mhNLPq",
        "outputId": "afbb256a-9c3b-4236-dd6a-5fe23f0b3bca"
      },
      "execution_count": 32,
      "outputs": [
        {
          "output_type": "execute_result",
          "data": {
            "text/plain": [
              "array([8, 9])"
            ]
          },
          "metadata": {},
          "execution_count": 32
        }
      ]
    },
    {
      "cell_type": "code",
      "source": [
        "# Stepping in reverse.\n",
        "x[7:3:-1]"
      ],
      "metadata": {
        "colab": {
          "base_uri": "https://localhost:8080/"
        },
        "id": "WmXh4QuwNQ-D",
        "outputId": "812146db-e976-4568-ff10-7c0ed6d93f9d"
      },
      "execution_count": 33,
      "outputs": [
        {
          "output_type": "execute_result",
          "data": {
            "text/plain": [
              "array([7, 6, 5, 4])"
            ]
          },
          "metadata": {},
          "execution_count": 33
        }
      ]
    },
    {
      "cell_type": "code",
      "source": [
        "# Equivalent to the above using -3 in place of 7.\n",
        "x[-3:3:-1]"
      ],
      "metadata": {
        "colab": {
          "base_uri": "https://localhost:8080/"
        },
        "id": "k_CqLdxuNc1K",
        "outputId": "47688c33-52ef-491e-cc33-64e6509d91cf"
      },
      "execution_count": 35,
      "outputs": [
        {
          "output_type": "execute_result",
          "data": {
            "text/plain": [
              "array([7, 6, 5, 4])"
            ]
          },
          "metadata": {},
          "execution_count": 35
        }
      ]
    },
    {
      "cell_type": "code",
      "source": [
        "# Equivalent expressions\n",
        "x[5:]"
      ],
      "metadata": {
        "colab": {
          "base_uri": "https://localhost:8080/"
        },
        "id": "AUpXXuCnO1Hz",
        "outputId": "f6cfdf2a-cfe0-45d9-9e5f-67d3a63d9db2"
      },
      "execution_count": 38,
      "outputs": [
        {
          "output_type": "execute_result",
          "data": {
            "text/plain": [
              "array([5, 6, 7, 8, 9])"
            ]
          },
          "metadata": {},
          "execution_count": 38
        }
      ]
    },
    {
      "cell_type": "code",
      "source": [
        "x[5:10]"
      ],
      "metadata": {
        "colab": {
          "base_uri": "https://localhost:8080/"
        },
        "id": "qxvUtQfMPKId",
        "outputId": "0bd464b2-83f2-42d0-8547-ca2001907ab4"
      },
      "execution_count": 39,
      "outputs": [
        {
          "output_type": "execute_result",
          "data": {
            "text/plain": [
              "array([5, 6, 7, 8, 9])"
            ]
          },
          "metadata": {},
          "execution_count": 39
        }
      ]
    },
    {
      "cell_type": "code",
      "source": [
        "# 3-dimensional array\n",
        "x = np.array([[[1],[2],[3]], [[4], [5], [6]]])\n",
        "x.shape"
      ],
      "metadata": {
        "colab": {
          "base_uri": "https://localhost:8080/"
        },
        "id": "aOSjRD80PPqN",
        "outputId": "9c891bb6-855b-43f5-c464-4c64e6b7f49a"
      },
      "execution_count": 42,
      "outputs": [
        {
          "output_type": "execute_result",
          "data": {
            "text/plain": [
              "(2, 3, 1)"
            ]
          },
          "metadata": {},
          "execution_count": 42
        }
      ]
    },
    {
      "cell_type": "code",
      "source": [
        "# If the # of objects is < N for an N dimensional array,\n",
        "# \":\" is assumed for any subsequent dimensions. You can\n",
        "# see this via the equivalent expressions below.\n",
        "x[1:2:]"
      ],
      "metadata": {
        "colab": {
          "base_uri": "https://localhost:8080/"
        },
        "id": "BNZQstUlPjEH",
        "outputId": "31e6752c-415f-4bcb-90bf-3f38d070a478"
      },
      "execution_count": 46,
      "outputs": [
        {
          "output_type": "execute_result",
          "data": {
            "text/plain": [
              "array([[[4],\n",
              "        [5],\n",
              "        [6]]])"
            ]
          },
          "metadata": {},
          "execution_count": 46
        }
      ]
    },
    {
      "cell_type": "code",
      "source": [
        "x[1:2]"
      ],
      "metadata": {
        "colab": {
          "base_uri": "https://localhost:8080/"
        },
        "id": "xzIHoslGP86X",
        "outputId": "5abf3734-7533-4e02-e9c7-a34bce75cdcc"
      },
      "execution_count": 47,
      "outputs": [
        {
          "output_type": "execute_result",
          "data": {
            "text/plain": [
              "array([[[4],\n",
              "        [5],\n",
              "        [6]]])"
            ]
          },
          "metadata": {},
          "execution_count": 47
        }
      ]
    },
    {
      "cell_type": "markdown",
      "source": [
        "\n",
        "## Additional ways to create numpy arrays\n",
        "\n"
      ],
      "metadata": {
        "id": "t57p2CUQccIk"
      }
    },
    {
      "cell_type": "code",
      "source": [
        "# Create a vector of increasing terms.\n",
        "vec1 = np.arange(6, 10)\n",
        "vec1"
      ],
      "metadata": {
        "colab": {
          "base_uri": "https://localhost:8080/"
        },
        "id": "s7XUJfefcpvH",
        "outputId": "203b0632-e30f-41e0-b6b3-15acf0e273db"
      },
      "execution_count": 48,
      "outputs": [
        {
          "output_type": "execute_result",
          "data": {
            "text/plain": [
              "array([6, 7, 8, 9])"
            ]
          },
          "metadata": {},
          "execution_count": 48
        }
      ]
    },
    {
      "cell_type": "code",
      "source": [
        "vec2 = np.arange(-4, 3)\n",
        "vec2\n"
      ],
      "metadata": {
        "id": "rnthbNTLc2I2"
      },
      "execution_count": null,
      "outputs": []
    },
    {
      "cell_type": "code",
      "source": [
        "# Increase by increments of 2\n",
        "vec3 = np.arange(1,11,2)\n",
        "vec3"
      ],
      "metadata": {
        "colab": {
          "base_uri": "https://localhost:8080/"
        },
        "id": "LYmUfuRpdj1F",
        "outputId": "cf5e4ab5-cece-4501-f194-a744ce622198"
      },
      "execution_count": 54,
      "outputs": [
        {
          "output_type": "execute_result",
          "data": {
            "text/plain": [
              "array([1, 3, 5, 7, 9])"
            ]
          },
          "metadata": {},
          "execution_count": 54
        }
      ]
    },
    {
      "cell_type": "code",
      "source": [
        "vec4 = np.arange(1, 10, 2)\n",
        "vec4"
      ],
      "metadata": {
        "colab": {
          "base_uri": "https://localhost:8080/"
        },
        "id": "JwXY9CNRd022",
        "outputId": "10f7ca26-60c7-497b-d5c5-90fd6606bae9"
      },
      "execution_count": 55,
      "outputs": [
        {
          "output_type": "execute_result",
          "data": {
            "text/plain": [
              "array([1, 3, 5, 7, 9])"
            ]
          },
          "metadata": {},
          "execution_count": 55
        }
      ]
    },
    {
      "cell_type": "code",
      "source": [
        "# Clear demonstration that the interval created\n",
        "# is [start, stop) (in other words, exclude the stop).\n",
        "vec5 = np.arange(1,3,2)\n",
        "vec5"
      ],
      "metadata": {
        "colab": {
          "base_uri": "https://localhost:8080/"
        },
        "id": "lPe2G6nmd6bD",
        "outputId": "17b0c22c-d752-420c-b248-1e353e6dd506"
      },
      "execution_count": 56,
      "outputs": [
        {
          "output_type": "execute_result",
          "data": {
            "text/plain": [
              "array([1])"
            ]
          },
          "metadata": {},
          "execution_count": 56
        }
      ]
    },
    {
      "cell_type": "code",
      "source": [
        "vec6 = np.arange(3, 1, -1)\n",
        "vec6"
      ],
      "metadata": {
        "colab": {
          "base_uri": "https://localhost:8080/"
        },
        "id": "OLPNyckMeqAe",
        "outputId": "e9ca8cdf-f461-4357-e08d-899a4fd34498"
      },
      "execution_count": 57,
      "outputs": [
        {
          "output_type": "execute_result",
          "data": {
            "text/plain": [
              "array([3, 2])"
            ]
          },
          "metadata": {},
          "execution_count": 57
        }
      ]
    },
    {
      "cell_type": "code",
      "source": [
        "# Using the linspace function to create a linearly spaced array,\n",
        "# with parameters start, stop and an optional number of samples to generate.\n",
        "vec7 = np.linspace(10, 14, 5)\n",
        "vec7"
      ],
      "metadata": {
        "colab": {
          "base_uri": "https://localhost:8080/"
        },
        "id": "NHNHwTKfebpn",
        "outputId": "3ee3ebf0-1f51-46f5-ddca-1bd19689ccc1"
      },
      "execution_count": 58,
      "outputs": [
        {
          "output_type": "execute_result",
          "data": {
            "text/plain": [
              "array([10., 11., 12., 13., 14.])"
            ]
          },
          "metadata": {},
          "execution_count": 58
        }
      ]
    },
    {
      "cell_type": "code",
      "source": [
        "vec8 = np.linspace(10, 13, 5)\n",
        "vec8"
      ],
      "metadata": {
        "colab": {
          "base_uri": "https://localhost:8080/"
        },
        "id": "LoJQkkJGfGL1",
        "outputId": "22bd7646-332e-43ee-c6e6-ee87b08420a4"
      },
      "execution_count": 59,
      "outputs": [
        {
          "output_type": "execute_result",
          "data": {
            "text/plain": [
              "array([10.  , 10.75, 11.5 , 12.25, 13.  ])"
            ]
          },
          "metadata": {},
          "execution_count": 59
        }
      ]
    },
    {
      "cell_type": "code",
      "source": [
        "vec9 = np.linspace(13, 10, 5)\n",
        "vec9"
      ],
      "metadata": {
        "colab": {
          "base_uri": "https://localhost:8080/"
        },
        "id": "EtLc-0ZafNO4",
        "outputId": "737ce493-af04-4454-bafa-c0897e32e2fa"
      },
      "execution_count": 60,
      "outputs": [
        {
          "output_type": "execute_result",
          "data": {
            "text/plain": [
              "array([13.  , 12.25, 11.5 , 10.75, 10.  ])"
            ]
          },
          "metadata": {},
          "execution_count": 60
        }
      ]
    },
    {
      "cell_type": "code",
      "source": [
        "vec10 = np.linspace(0, 100, 5)\n",
        "vec10"
      ],
      "metadata": {
        "colab": {
          "base_uri": "https://localhost:8080/"
        },
        "id": "DPwGqmUjfTo-",
        "outputId": "ba142198-0242-423d-f1f1-0c525da4a918"
      },
      "execution_count": 61,
      "outputs": [
        {
          "output_type": "execute_result",
          "data": {
            "text/plain": [
              "array([  0.,  25.,  50.,  75., 100.])"
            ]
          },
          "metadata": {},
          "execution_count": 61
        }
      ]
    },
    {
      "cell_type": "code",
      "source": [
        "# Logarithmically spaced vectors. By default, the base is 10. The call\n",
        "# below creates a vector of 10 elements, spaced evenly on a log scale\n",
        "# between 10^0 and 10^2.\n",
        "vec11 = np.logspace(0, 2, 10)\n",
        "vec11"
      ],
      "metadata": {
        "colab": {
          "base_uri": "https://localhost:8080/"
        },
        "id": "IlcnpjssfbGf",
        "outputId": "5bc11a5d-54ae-45a4-a05d-e9c2246998f0"
      },
      "execution_count": 67,
      "outputs": [
        {
          "output_type": "execute_result",
          "data": {
            "text/plain": [
              "array([  1.        ,   1.66810054,   2.7825594 ,   4.64158883,\n",
              "         7.74263683,  12.91549665,  21.5443469 ,  35.93813664,\n",
              "        59.94842503, 100.        ])"
            ]
          },
          "metadata": {},
          "execution_count": 67
        }
      ]
    },
    {
      "cell_type": "code",
      "source": [
        "vec12 = np.logspace(1,4,20)\n",
        "vec12"
      ],
      "metadata": {
        "colab": {
          "base_uri": "https://localhost:8080/"
        },
        "id": "jZMSQlVpghef",
        "outputId": "ce16d02b-9304-42bb-ebf8-fa3c77a3e546"
      },
      "execution_count": 68,
      "outputs": [
        {
          "output_type": "execute_result",
          "data": {
            "text/plain": [
              "array([   10.        ,    14.38449888,    20.69138081,    29.76351442,\n",
              "          42.81332399,    61.58482111,    88.58667904,   127.42749857,\n",
              "         183.29807108,   263.66508987,   379.26901907,   545.55947812,\n",
              "         784.75997035,  1128.83789168,  1623.77673919,  2335.72146909,\n",
              "        3359.81828628,  4832.93023857,  6951.92796178, 10000.        ])"
            ]
          },
          "metadata": {},
          "execution_count": 68
        }
      ]
    },
    {
      "cell_type": "markdown",
      "source": [
        "\n",
        "## Numpy arrays with predefined values\n"
      ],
      "metadata": {
        "id": "QoPzjuzuhS-E"
      }
    },
    {
      "cell_type": "code",
      "source": [
        "np.ones([3,1])"
      ],
      "metadata": {
        "colab": {
          "base_uri": "https://localhost:8080/"
        },
        "id": "MqFFGfFtg9ye",
        "outputId": "d54ecfaf-5e89-4c0e-9e0b-a490dde6a51e"
      },
      "execution_count": 73,
      "outputs": [
        {
          "output_type": "execute_result",
          "data": {
            "text/plain": [
              "array([[1.],\n",
              "       [1.],\n",
              "       [1.]])"
            ]
          },
          "metadata": {},
          "execution_count": 73
        }
      ]
    },
    {
      "cell_type": "code",
      "source": [
        "np.zeros([2,3])"
      ],
      "metadata": {
        "colab": {
          "base_uri": "https://localhost:8080/"
        },
        "id": "Dzo572VphFwI",
        "outputId": "ba65027d-e0ec-42e5-b4f4-1839aae5068e"
      },
      "execution_count": 71,
      "outputs": [
        {
          "output_type": "execute_result",
          "data": {
            "text/plain": [
              "array([[0., 0., 0.],\n",
              "       [0., 0., 0.]])"
            ]
          },
          "metadata": {},
          "execution_count": 71
        }
      ]
    },
    {
      "cell_type": "code",
      "source": [
        "np.eye(4)"
      ],
      "metadata": {
        "colab": {
          "base_uri": "https://localhost:8080/"
        },
        "id": "isHZ-zMWhMgI",
        "outputId": "999d6cd8-f2f0-43b2-9b22-bc2270708020"
      },
      "execution_count": 72,
      "outputs": [
        {
          "output_type": "execute_result",
          "data": {
            "text/plain": [
              "array([[1., 0., 0., 0.],\n",
              "       [0., 1., 0., 0.],\n",
              "       [0., 0., 1., 0.],\n",
              "       [0., 0., 0., 1.]])"
            ]
          },
          "metadata": {},
          "execution_count": 72
        }
      ]
    },
    {
      "cell_type": "markdown",
      "source": [
        "## Numpy array transposition"
      ],
      "metadata": {
        "id": "62-F0GLHhvpt"
      }
    },
    {
      "cell_type": "code",
      "source": [
        "x = np.array([1,2,3])\n",
        "x"
      ],
      "metadata": {
        "colab": {
          "base_uri": "https://localhost:8080/"
        },
        "id": "D7CgPCV2hya1",
        "outputId": "b37dac00-2182-486b-e671-f314cb9d7a2d"
      },
      "execution_count": 75,
      "outputs": [
        {
          "output_type": "execute_result",
          "data": {
            "text/plain": [
              "array([1, 2, 3])"
            ]
          },
          "metadata": {},
          "execution_count": 75
        }
      ]
    },
    {
      "cell_type": "code",
      "source": [
        "transposed_x = np.transpose(x)\n",
        "transposed_x"
      ],
      "metadata": {
        "colab": {
          "base_uri": "https://localhost:8080/"
        },
        "id": "QbcEj9gzh8Mo",
        "outputId": "88a944a3-a0c9-42b3-f385-af269c5a3611"
      },
      "execution_count": 76,
      "outputs": [
        {
          "output_type": "execute_result",
          "data": {
            "text/plain": [
              "array([1, 2, 3])"
            ]
          },
          "metadata": {},
          "execution_count": 76
        }
      ]
    },
    {
      "cell_type": "code",
      "source": [
        "w = np.array([[1, 2, 3], [4, 5, 6]])\n",
        "w"
      ],
      "metadata": {
        "colab": {
          "base_uri": "https://localhost:8080/"
        },
        "id": "c5sLmVgJiPKE",
        "outputId": "72675c3a-5bf2-4bef-8d6f-0de163014760"
      },
      "execution_count": 78,
      "outputs": [
        {
          "output_type": "execute_result",
          "data": {
            "text/plain": [
              "array([[1, 2, 3],\n",
              "       [4, 5, 6]])"
            ]
          },
          "metadata": {},
          "execution_count": 78
        }
      ]
    },
    {
      "cell_type": "code",
      "source": [
        "transposed_w = np.transpose(w)\n",
        "transposed_w"
      ],
      "metadata": {
        "colab": {
          "base_uri": "https://localhost:8080/"
        },
        "id": "ifNbP1r2ichj",
        "outputId": "b14b541b-2ea0-4a52-dbe4-9b4ba8c0fb30"
      },
      "execution_count": 79,
      "outputs": [
        {
          "output_type": "execute_result",
          "data": {
            "text/plain": [
              "array([[1, 4],\n",
              "       [2, 5],\n",
              "       [3, 6]])"
            ]
          },
          "metadata": {},
          "execution_count": 79
        }
      ]
    },
    {
      "cell_type": "markdown",
      "source": [
        "## Dimensions of numpy arrays"
      ],
      "metadata": {
        "id": "6oHaPpi8iu0x"
      }
    },
    {
      "cell_type": "code",
      "source": [
        "x = np.ones([3, 2])\n",
        "x"
      ],
      "metadata": {
        "colab": {
          "base_uri": "https://localhost:8080/"
        },
        "id": "N4yHMIAGixqe",
        "outputId": "f6c8ac03-6526-4abb-8e84-afbd12baa6a5"
      },
      "execution_count": 80,
      "outputs": [
        {
          "output_type": "execute_result",
          "data": {
            "text/plain": [
              "array([[1., 1.],\n",
              "       [1., 1.],\n",
              "       [1., 1.]])"
            ]
          },
          "metadata": {},
          "execution_count": 80
        }
      ]
    },
    {
      "cell_type": "code",
      "source": [
        "# Calling shape gives you information about the dimensions\n",
        "# of the numpy array.\n",
        "x.shape"
      ],
      "metadata": {
        "colab": {
          "base_uri": "https://localhost:8080/"
        },
        "id": "zfE_ZFJfi2Vw",
        "outputId": "ac9e7261-f6a1-4938-d5d7-792a542c3f00"
      },
      "execution_count": 83,
      "outputs": [
        {
          "output_type": "execute_result",
          "data": {
            "text/plain": [
              "(3, 2)"
            ]
          },
          "metadata": {},
          "execution_count": 83
        }
      ]
    },
    {
      "cell_type": "code",
      "source": [
        "# In this case, number of rows\n",
        "x.shape[0]"
      ],
      "metadata": {
        "colab": {
          "base_uri": "https://localhost:8080/"
        },
        "id": "GcS2zQZ5jWkx",
        "outputId": "5808c2ef-20b7-4d68-8773-034fde385024"
      },
      "execution_count": 84,
      "outputs": [
        {
          "output_type": "execute_result",
          "data": {
            "text/plain": [
              "3"
            ]
          },
          "metadata": {},
          "execution_count": 84
        }
      ]
    },
    {
      "cell_type": "code",
      "source": [
        "# Number of columns\n",
        "x.shape[1]"
      ],
      "metadata": {
        "colab": {
          "base_uri": "https://localhost:8080/"
        },
        "id": "uQzfmnrVjaYG",
        "outputId": "487fc950-5745-4e1d-a749-b4f1a0b3d586"
      },
      "execution_count": 85,
      "outputs": [
        {
          "output_type": "execute_result",
          "data": {
            "text/plain": [
              "2"
            ]
          },
          "metadata": {},
          "execution_count": 85
        }
      ]
    },
    {
      "cell_type": "code",
      "source": [
        "# Calculate how many dimensions the array is\n",
        "len(x.shape)"
      ],
      "metadata": {
        "colab": {
          "base_uri": "https://localhost:8080/"
        },
        "id": "GrYBm-KkjcyS",
        "outputId": "4e9ff79a-efa2-42f9-defd-016a4b0aa9df"
      },
      "execution_count": 87,
      "outputs": [
        {
          "output_type": "execute_result",
          "data": {
            "text/plain": [
              "2"
            ]
          },
          "metadata": {},
          "execution_count": 87
        }
      ]
    }
  ]
}