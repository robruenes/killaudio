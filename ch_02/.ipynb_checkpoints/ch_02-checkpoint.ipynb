{
  "nbformat": 4,
  "nbformat_minor": 0,
  "metadata": {
    "colab": {
      "name": "killaudio-intro.ipynb",
      "provenance": [],
      "collapsed_sections": [],
      "authorship_tag": "ABX9TyP/lU6Xkp/YMZeXYwtviwp8",
      "include_colab_link": true
    },
    "kernelspec": {
      "name": "python3",
      "display_name": "Python 3"
    },
    "language_info": {
      "name": "python"
    }
  },
  "cells": [
    {
      "cell_type": "markdown",
      "metadata": {
        "id": "view-in-github",
        "colab_type": "text"
      },
      "source": [
        "<a href=\"https://colab.research.google.com/github/robruenes/killaudio/blob/main/killaudio_intro.ipynb\" target=\"_parent\"><img src=\"https://colab.research.google.com/assets/colab-badge.svg\" alt=\"Open In Colab\"/></a>"
      ]
    },
    {
      "cell_type": "markdown",
      "source": [
        "# Intro\n",
        "\n",
        "This colab is filled with basic examples of Python code, to refamiliarize myself with the language's syntax and to get some understanding of Python tooling like numpy.\n"
      ],
      "metadata": {
        "id": "SzQc0I0UI36M"
      }
    },
    {
      "cell_type": "code",
      "source": [
        "print (\"Hello, world!\")"
      ],
      "metadata": {
        "colab": {
          "base_uri": "https://localhost:8080/"
        },
        "id": "mnKQVmI-LDw8",
        "outputId": "862c866c-2b4e-4de0-c0c7-c32138ed84a7"
      },
      "execution_count": 1,
      "outputs": [
        {
          "output_type": "stream",
          "name": "stdout",
          "text": [
            "Hello, world!\n"
          ]
        }
      ]
    },
    {
      "cell_type": "markdown",
      "source": [
        "# Installing dependencies\n",
        "\n",
        "To install requisite python packages in colab, use the following syntax:\n",
        "\n",
        "\n",
        "\n",
        "```\n",
        "!pip install <package>\n",
        "```\n",
        "\n"
      ],
      "metadata": {
        "id": "UQ7dcrBAK7-Q"
      }
    },
    {
      "cell_type": "markdown",
      "source": [
        "# Basic plotting using matplotlib"
      ],
      "metadata": {
        "id": "Lg5YA1WzM4Uv"
      }
    },
    {
      "cell_type": "code",
      "execution_count": 2,
      "metadata": {
        "colab": {
          "base_uri": "https://localhost:8080/"
        },
        "id": "_trwqM3mIdpf",
        "outputId": "223acbfe-08ef-4e56-d6d3-2f1d9ac7b828"
      },
      "outputs": [
        {
          "output_type": "stream",
          "name": "stdout",
          "text": [
            "Requirement already satisfied: matplotlib in /usr/local/lib/python3.7/dist-packages (3.2.2)\n",
            "Requirement already satisfied: pyparsing!=2.0.4,!=2.1.2,!=2.1.6,>=2.0.1 in /usr/local/lib/python3.7/dist-packages (from matplotlib) (3.0.6)\n",
            "Requirement already satisfied: numpy>=1.11 in /usr/local/lib/python3.7/dist-packages (from matplotlib) (1.19.5)\n",
            "Requirement already satisfied: python-dateutil>=2.1 in /usr/local/lib/python3.7/dist-packages (from matplotlib) (2.8.2)\n",
            "Requirement already satisfied: kiwisolver>=1.0.1 in /usr/local/lib/python3.7/dist-packages (from matplotlib) (1.3.2)\n",
            "Requirement already satisfied: cycler>=0.10 in /usr/local/lib/python3.7/dist-packages (from matplotlib) (0.11.0)\n",
            "Requirement already satisfied: six>=1.5 in /usr/local/lib/python3.7/dist-packages (from python-dateutil>=2.1->matplotlib) (1.15.0)\n"
          ]
        }
      ],
      "source": [
        "# Install matplotlib\n",
        "!pip install matplotlib\n"
      ]
    },
    {
      "cell_type": "code",
      "source": [
        "import matplotlib.pyplot as plt\n"
      ],
      "metadata": {
        "id": "KBi65XAoMdBD"
      },
      "execution_count": 3,
      "outputs": []
    },
    {
      "cell_type": "code",
      "source": [
        "# Simple plotting\n",
        "\n",
        "x = [1, 2, 3, 4, 5, 6]\n",
        "y = [5, 2, 4, 4, -3, 3]\n",
        "\n",
        "plt.plot(x, y)"
      ],
      "metadata": {
        "colab": {
          "base_uri": "https://localhost:8080/",
          "height": 282
        },
        "id": "YQjQuQd7LexJ",
        "outputId": "80fdf6ae-a767-4ae3-947a-a25076e9c090"
      },
      "execution_count": 4,
      "outputs": [
        {
          "output_type": "execute_result",
          "data": {
            "text/plain": [
              "[<matplotlib.lines.Line2D at 0x7f7e3d37f490>]"
            ]
          },
          "metadata": {},
          "execution_count": 4
        },
        {
          "output_type": "display_data",
          "data": {
            "image/png": "[encoded data removed]",
            "text/plain": [
              "<Figure size 432x288 with 1 Axes>"
            ]
          },
          "metadata": {
            "needs_background": "light"
          }
        }
      ]
    },
    {
      "cell_type": "code",
      "source": [
        "# You can plot just the y-axis, but the x-axis will be 0 indexed.\n",
        "plt.plot(y)"
      ],
      "metadata": {
        "colab": {
          "base_uri": "https://localhost:8080/",
          "height": 282
        },
        "id": "W7RXOiCWMgdN",
        "outputId": "e70fbb6e-2f5e-48fa-f5c2-ec7e9c6a49f0"
      },
      "execution_count": 5,
      "outputs": [
        {
          "output_type": "execute_result",
          "data": {
            "text/plain": [
              "[<matplotlib.lines.Line2D at 0x7f7e43cd2710>]"
            ]
          },
          "metadata": {},
          "execution_count": 5
        },
        {
          "output_type": "display_data",
          "data": {
            "image/png": "[encoded data removed]",
            "text/plain": [
              "<Figure size 432x288 with 1 Axes>"
            ]
          },
          "metadata": {
            "needs_background": "light"
          }
        }
      ]
    },
    {
      "cell_type": "code",
      "source": [
        "# Plotting functions\n",
        "\n",
        "m = 3\n",
        "b = 1\n",
        "x2 = [0, 1, 2, 3]\n",
        "\n",
        "# Ooh, list comprehensions\n",
        "y2 = [(m * val + b) for val in x2]\n",
        "\n",
        "plt.plot(x2, y2)"
      ],
      "metadata": {
        "colab": {
          "base_uri": "https://localhost:8080/",
          "height": 282
        },
        "id": "KQ0lR5BsNYiU",
        "outputId": "4f50b984-2c29-4f83-8c92-d9fb4993016a"
      },
      "execution_count": 6,
      "outputs": [
        {
          "output_type": "execute_result",
          "data": {
            "text/plain": [
              "[<matplotlib.lines.Line2D at 0x7f7e3cdd8e10>]"
            ]
          },
          "metadata": {},
          "execution_count": 6
        },
        {
          "output_type": "display_data",
          "data": {
            "image/png": "[encoded data removed]",
            "text/plain": [
              "<Figure size 432x288 with 1 Axes>"
            ]
          },
          "metadata": {
            "needs_background": "light"
          }
        }
      ]
    },
    {
      "cell_type": "code",
      "source": [
        "''' \n",
        "Graph styling\n",
        "\n",
        "From https://matplotlib.org/stable/api/_as_gen/matplotlib.pyplot.plot.html\n",
        "\n",
        "Format strings are comprised (optionally) of the following:\n",
        "\n",
        "fmt = '[marker][line][color]'\n",
        "'''\n",
        "\n",
        "# Example: red line\n",
        "#plt.plot(x2, y2, 'r')\n",
        "\n",
        "#Example: green circles\n",
        "#plt.plot(x2, y2, 'og')\n",
        "\n",
        "# Example: black triangle_up markers connected by a dotted line\n",
        "plt.plot(x2, y2, '^k:')\n",
        "\n",
        "\n"
      ],
      "metadata": {
        "colab": {
          "base_uri": "https://localhost:8080/",
          "height": 282
        },
        "id": "E_6vdQRiOnFy",
        "outputId": "447268df-eb10-4ef2-a5ae-5e98fa7a5331"
      },
      "execution_count": 7,
      "outputs": [
        {
          "output_type": "execute_result",
          "data": {
            "text/plain": [
              "[<matplotlib.lines.Line2D at 0x7f7e3cd4e210>]"
            ]
          },
          "metadata": {},
          "execution_count": 7
        },
        {
          "output_type": "display_data",
          "data": {
            "image/png": "[encoded data removed]",
            "text/plain": [
              "<Figure size 432x288 with 1 Axes>"
            ]
          },
          "metadata": {
            "needs_background": "light"
          }
        }
      ]
    },
    {
      "cell_type": "markdown",
      "source": [
        "# Stem plots"
      ],
      "metadata": {
        "id": "VxwOZMgbP6py"
      }
    },
    {
      "cell_type": "code",
      "source": [
        "import math\n",
        "\n",
        "# In python3, ranges are iterators, so they need\n",
        "# to be passed to list() to have a list.\n",
        "stem_x = list(range(1, 20))\n",
        "stem_y = [math.sqrt(x) for x in stem_x]\n",
        "\n",
        "plt.stem(stem_x, stem_y)"
      ],
      "metadata": {
        "colab": {
          "base_uri": "https://localhost:8080/",
          "height": 336
        },
        "id": "H3a24Qx0P77I",
        "outputId": "002c9177-218b-4f72-cfc5-7a725dfc85e1"
      },
      "execution_count": 8,
      "outputs": [
        {
          "output_type": "stream",
          "name": "stderr",
          "text": [
            "/usr/local/lib/python3.7/dist-packages/ipykernel_launcher.py:8: UserWarning: In Matplotlib 3.3 individual lines on a stem plot will be added as a LineCollection instead of individual lines. This significantly improves the performance of a stem plot. To remove this warning and switch to the new behaviour, set the \"use_line_collection\" keyword argument to True.\n",
            "  \n"
          ]
        },
        {
          "output_type": "execute_result",
          "data": {
            "text/plain": [
              "<StemContainer object of 3 artists>"
            ]
          },
          "metadata": {},
          "execution_count": 8
        },
        {
          "output_type": "display_data",
          "data": {
            "image/png": "[encoded data removed]",
            "text/plain": [
              "<Figure size 432x288 with 1 Axes>"
            ]
          },
          "metadata": {
            "needs_background": "light"
          }
        }
      ]
    },
    {
      "cell_type": "markdown",
      "source": [
        "# Formatting and scaling example"
      ],
      "metadata": {
        "id": "Y8q6LcdSSh3e"
      }
    },
    {
      "cell_type": "code",
      "source": [
        "xs = [1, 10, 100, 1000, 10000]\n",
        "ys = [math.log(x, 10) for x in xs]\n",
        "\n",
        "# Plot the x axis using a logarithmic scale\n",
        "plt.xscale(\"log\")\n",
        "plt.title(\"Base 10 logarithmic function\")\n",
        "plt.xlabel(\"x\")\n",
        "plt.ylabel(\"y(x)\")\n",
        "plt.plot(xs, ys, label=\"y = log(x)\")\n",
        "plt.legend()\n",
        "\n"
      ],
      "metadata": {
        "colab": {
          "base_uri": "https://localhost:8080/",
          "height": 299
        },
        "id": "6ajx1KWZSkaX",
        "outputId": "363c342a-8411-4c61-a0db-cde5d6037b76"
      },
      "execution_count": 21,
      "outputs": [
        {
          "output_type": "display_data",
          "data": {
            "image/png": "[encoded data removed]",
            "text/plain": [
              "<Figure size 432x288 with 1 Axes>"
            ]
          },
          "metadata": {
            "needs_background": "light"
          }
        }
      ]
    }
  ]
}