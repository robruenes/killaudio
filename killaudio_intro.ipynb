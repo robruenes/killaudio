{
  "nbformat": 4,
  "nbformat_minor": 0,
  "metadata": {
    "colab": {
      "name": "killaudio-intro.ipynb",
      "provenance": [],
      "authorship_tag": "ABX9TyM4UWGB0q/lcgPfpx59L9V0",
      "include_colab_link": true
    },
    "kernelspec": {
      "name": "python3",
      "display_name": "Python 3"
    },
    "language_info": {
      "name": "python"
    }
  },
  "cells": [
    {
      "cell_type": "markdown",
      "metadata": {
        "id": "view-in-github",
        "colab_type": "text"
      },
      "source": [
        "<a href=\"https://colab.research.google.com/github/robruenes/killaudio/blob/main/killaudio_intro.ipynb\" target=\"_parent\"><img src=\"https://colab.research.google.com/assets/colab-badge.svg\" alt=\"Open In Colab\"/></a>"
      ]
    },
    {
      "cell_type": "markdown",
      "source": [
        "This colab is filled with basic examples of Python code, to refamiliarize myself with the language's syntax and to get some understanding of Python tooling like numpy.\n"
      ],
      "metadata": {
        "id": "SzQc0I0UI36M"
      }
    },
    {
      "cell_type": "code",
      "execution_count": null,
      "metadata": {
        "id": "_trwqM3mIdpf"
      },
      "outputs": [],
      "source": [
        ""
      ]
    }
  ]
}